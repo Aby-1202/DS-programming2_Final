{
 "cells": [
  {
   "cell_type": "code",
   "execution_count": null,
   "metadata": {},
   "outputs": [],
   "source": [
    "import requests\n",
    "from bs4 import BeautifulSoup \n",
    "import re\n",
    "import time\n",
    "\n",
    "pref_code = [46] #都道府県コード\n",
    "block_code = [1008] #地域コード\n",
    "place_name = [\"小田原\"]"
   ]
  },
  {
   "cell_type": "code",
   "execution_count": null,
   "metadata": {},
   "outputs": [],
   "source": [
    "# DBファイルを保存するためのファイルパス\n",
    "\n",
    "import sqlite3\n",
    "\n",
    "# Github\n",
    "path = '/content/'\n",
    "\n",
    "# DBファイル名\n",
    "db_name = 'github.sqlite'\n",
    "\n",
    "# DBに接続する（指定したDBファイル存在しない場合は，新規に作成される）\n",
    "con = sqlite3.connect(path + db_name)\n",
    "cur = conn.cursor()\n",
    "\n",
    "# テーブルが存在しない場合は作成\n",
    "cur.execute('''CREATE TABLE IF NOT EXISTS weather\n",
    "                (date TEXT, precipitation REAL, temp_avg REAL, temp_high REAL, temp_low REAL, humidity_avg REAL, humidity_min REAL, sunshine REAL)''')\n",
    "\n",
    "# DBへの接続を閉じる\n",
    "con.commit()\n",
    "con.close()"
   ]
  },
  {
   "cell_type": "code",
   "execution_count": null,
   "metadata": {},
   "outputs": [],
   "source": [
    "url = \"https://www.data.jma.go.jp/obd/stats/etrn/view/daily_a1.php?prec_no=%s&block_no%s&year=%s&month=%s&day=17&view=p1\"\n",
    "\n",
    "# 取ったデータをfloat型に変える(データが取れなかった場合、気象庁は\"/\"を埋め込んでいるため0に変える)\n",
    "def str2float(str):\n",
    "  try:\n",
    "    return float(str)\n",
    "  except:\n",
    "    return 0.0"
   ]
  },
  {
   "cell_type": "code",
   "execution_count": null,
   "metadata": {},
   "outputs": [],
   "source": [
    "# DBに接続\n",
    "con = sqlite3.connect(path + db_name)\n",
    "cur = con.cursor()\n",
    "\n",
    "# 対象期間の1行を取得し、DBに格納\n",
    "for row in rows:\n",
    "    data = row.findAll('td')\n",
    "\n",
    "    rowData = [\n",
    "        str(year) + \"/\" + str(month) + \"/\" + str(data[0].string),\n",
    "        str2float(data[3].string),\n",
    "        str2float(data[6].string),\n",
    "        str2float(data[7].string),\n",
    "        str2float(data[8].string),\n",
    "        str2float(data[9].string),\n",
    "        str2float(data[10].string),\n",
    "        str2float(data[16].string)\n",
    "    ]\n",
    "\n",
    "    # データベースへの挿入\n",
    "    cur.execute(\"INSERT INTO weather (date, precipitation, temp_avg, temp_high, temp_low, humidity_avg, humidity_min, sunshine)VALUES (?, ?, ?, ?, ?, ?, ?, ?)\", rowData)\n",
    "\n",
    "con.commit()\n",
    "conn.close()\n",
    "\n",
    "return rowData"
   ]
  }
 ],
 "metadata": {
  "language_info": {
   "name": "python"
  }
 },
 "nbformat": 4,
 "nbformat_minor": 2
}
