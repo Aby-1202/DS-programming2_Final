{
 "cells": [
  {
   "cell_type": "code",
   "execution_count": null,
   "metadata": {},
   "outputs": [],
   "source": [
    "import requests\n",
    "from bs4 import BeautifulSoup \n",
    "import re\n",
    "import time\n",
    "\n",
    "pref_code = [46] #都道府県コード\n",
    "block_code = [1008] #地域コード\n",
    "place_name = [\"小田原\"]"
   ]
  },
  {
   "cell_type": "code",
   "execution_count": null,
   "metadata": {},
   "outputs": [],
   "source": [
    "# DBファイルを保存するためのファイルパス\n",
    "\n",
    "import sqlite3\n",
    "\n",
    "# Github\n",
    "path = '/content/'\n",
    "\n",
    "# DBファイル名\n",
    "db_name = 'github.sqlite'\n",
    "\n",
    "# DBに接続する（指定したDBファイル存在しない場合は，新規に作成される）\n",
    "con = sqlite3.connect(path + db_name)\n",
    "cur = conn.cursor()\n",
    "\n",
    "# テーブルが存在しない場合は作成\n",
    "cur.execute('''CREATE TABLE IF NOT EXISTS weather\n",
    "                (date TEXT, precipitation FLOAT, temp_avg FLOAT, temp_high FLOAT, temp_low FLOAT, humidity_avg FLOAT, humidity_min FLOAT, sunshine FLOAT)''')\n",
    "\n",
    "# DBへの接続を閉じる\n",
    "con.commit()\n",
    "con.close()"
   ]
  },
  {
   "cell_type": "code",
   "execution_count": null,
   "metadata": {},
   "outputs": [],
   "source": [
    "url = \"https://www.data.jma.go.jp/obd/stats/etrn/view/daily_a1.php?prec_no=%s&block_no%s&year=%s&month=%s&day=17&view=p1\"\n",
    "\n",
    "# 取ったデータをfloat型に変える(データが取れなかった場合、気象庁は\"/\"を埋め込んでいるため0に変える)\n",
    "def str2float(str):\n",
    "  try:\n",
    "    return float(str)\n",
    "  except:\n",
    "    return 0.0"
   ]
  }
 ],
 "metadata": {
  "language_info": {
   "name": "python"
  }
 },
 "nbformat": 4,
 "nbformat_minor": 2
}
