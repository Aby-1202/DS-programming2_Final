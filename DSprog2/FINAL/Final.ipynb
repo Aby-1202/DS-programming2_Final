{
 "cells": [
  {
   "cell_type": "code",
   "execution_count": 34,
   "metadata": {},
   "outputs": [],
   "source": [
    "import requests\n",
    "from bs4 import BeautifulSoup \n",
    "import re\n",
    "import time\n",
    "\n",
    "place_name = [\"小田原\"]"
   ]
  },
  {
   "cell_type": "code",
   "execution_count": 42,
   "metadata": {},
   "outputs": [],
   "source": [
    "# DBファイルを保存するためのファイルパス\n",
    "\n",
    "import sqlite3\n",
    "\n",
    "# DBに接続する（指定したDBファイル存在しない場合は，新規に作成される）\n",
    "con = sqlite3.connect(\"weather.sqlite\")\n",
    "cur = con.cursor()\n",
    "\n",
    "# テーブルが存在しない場合は作成\n",
    "cur.execute('''CREATE TABLE IF NOT EXISTS weather(\n",
    "                date TEXT,\n",
    "                precipitation FLOAT,\n",
    "                temp_avg FLOAT, \n",
    "                temp_high FLOAT, \n",
    "                temp_low FLOAT, \n",
    "                humidity_avg FLOAT, \n",
    "                humidity_min FLOAT, \n",
    "                sunshine FLOAT)\n",
    "                ''')\n",
    "\n",
    "# DBへの接続を閉じる\n",
    "con.commit()\n",
    "con.close()"
   ]
  },
  {
   "cell_type": "code",
   "execution_count": 36,
   "metadata": {},
   "outputs": [],
   "source": [
    "url = \"https://www.data.jma.go.jp/obd/stats/etrn/view/daily_a1.php?prec_no=46&block_no=1008&year=2023&month=12&day=&view=p1\"\n",
    "\n",
    "# 取ったデータをfloat型に変える(データが取れなかった場合、気象庁は\"/\"を埋め込んでいるため0に変える)\n",
    "def str2float(str):\n",
    "  try:\n",
    "    return float(str)\n",
    "  except:\n",
    "    return 0.0"
   ]
  },
  {
   "cell_type": "code",
   "execution_count": 37,
   "metadata": {},
   "outputs": [],
   "source": [
    "r = requests.get(url)\n",
    "r.encoding = r.apparent_encoding"
   ]
  },
  {
   "cell_type": "code",
   "execution_count": 43,
   "metadata": {},
   "outputs": [
    {
     "name": "stdout",
     "output_type": "stream",
     "text": [
      "12/31\n",
      "2.0mm\n",
      "8.8°C\n",
      "12.5°C\n",
      "5.8°C\n",
      "92％\n",
      "73％\n",
      "2.5h\n"
     ]
    },
    {
     "ename": "ProgrammingError",
     "evalue": "Cannot operate on a closed database.",
     "output_type": "error",
     "traceback": [
      "\u001b[0;31m---------------------------------------------------------------------------\u001b[0m",
      "\u001b[0;31mProgrammingError\u001b[0m                          Traceback (most recent call last)",
      "Cell \u001b[0;32mIn[43], line 25\u001b[0m\n\u001b[1;32m     22\u001b[0m     rowData\u001b[38;5;241m.\u001b[39mappend(\u001b[38;5;28mstr\u001b[39m(data[\u001b[38;5;241m8\u001b[39m]\u001b[38;5;241m.\u001b[39mstring) \u001b[38;5;241m+\u001b[39m \u001b[38;5;124m\"\u001b[39m\u001b[38;5;124m％\u001b[39m\u001b[38;5;124m\"\u001b[39m)\n\u001b[1;32m     23\u001b[0m     rowData\u001b[38;5;241m.\u001b[39mappend(\u001b[38;5;28mstr\u001b[39m(data[\u001b[38;5;241m15\u001b[39m]\u001b[38;5;241m.\u001b[39mstring) \u001b[38;5;241m+\u001b[39m \u001b[38;5;124m\"\u001b[39m\u001b[38;5;124mh\u001b[39m\u001b[38;5;124m\"\u001b[39m)\n\u001b[0;32m---> 25\u001b[0m \u001b[43mcur\u001b[49m\u001b[38;5;241;43m.\u001b[39;49m\u001b[43mexecute\u001b[49m\u001b[43m(\u001b[49m\u001b[38;5;124;43m\"\u001b[39;49m\u001b[38;5;124;43mINSERT INTO weather (date, precipitation, temp_avg, temp_high, temp_low, humidity_avg, humidity_min, sunshine) VALUES (?, ?, ?, ?, ?, ?, ?, ?)\u001b[39;49m\u001b[38;5;124;43m\"\u001b[39;49m\u001b[43m,\u001b[49m\u001b[43m \u001b[49m\u001b[43mrowData\u001b[49m\u001b[43m)\u001b[49m\n\u001b[1;32m     26\u001b[0m data_list\u001b[38;5;241m.\u001b[39mappend(rowData)\n\u001b[1;32m     28\u001b[0m \u001b[38;5;28;01mif\u001b[39;00m \u001b[38;5;18m__name__\u001b[39m \u001b[38;5;241m==\u001b[39m \u001b[38;5;124m\"\u001b[39m\u001b[38;5;124m__main__\u001b[39m\u001b[38;5;124m\"\u001b[39m:\n",
      "\u001b[0;31mProgrammingError\u001b[0m: Cannot operate on a closed database."
     ]
    }
   ],
   "source": [
    "data_list = [['月日', '降水量', '気温_平均', '気温_最高', '気温_最低', '湿度_平均', '湿度_最小', '日照時間']]\n",
    "\n",
    "month = 12\n",
    "soup = BeautifulSoup(r.text, 'html.parser')\n",
    "table = soup.find('table', {'id': 'tablefix1', 'class': 'data2_s'})\n",
    "rows = table.findAll('tr', class_='mtx')\n",
    "rows = rows[19:]\n",
    "\n",
    "con = sqlite3.connect(\"weather.sqlite\")\n",
    "cur = con.cursor()\n",
    "\n",
    "for i in range(14):\n",
    "    for row in rows:\n",
    "        data = row.findAll('td')\n",
    "        rowData = []\n",
    "        rowData.append(str(month) + \"/\" + str(data[0].string))\n",
    "        rowData.append(str(data[1].string) + \"mm\")\n",
    "        rowData.append(str(data[4].string) + \"°C\")\n",
    "        rowData.append(str(data[5].string) + \"°C\")\n",
    "        rowData.append(str(data[6].string) + \"°C\")\n",
    "        rowData.append(str(data[7].string) + \"％\")\n",
    "        rowData.append(str(data[8].string) + \"％\")\n",
    "        rowData.append(str(data[15].string) + \"h\")\n",
    "\n",
    "    cur.execute(\"INSERT INTO weather (date, precipitation, temp_avg, temp_high, temp_low, humidity_avg, humidity_min, sunshine) VALUES (?, ?, ?, ?, ?, ?, ?, ?)\", rowData)\n",
    "    data_list.append(rowData)\n",
    "\n",
    "    if __name__ == \"__main__\":\n",
    "        result = rowData\n",
    "        if result:\n",
    "            for row in result:\n",
    "                print(row)\n",
    "        else:\n",
    "            print(\"No data\")\n",
    "\n",
    "    con.commit()\n",
    "    con.close()"
   ]
  },
  {
   "cell_type": "code",
   "execution_count": 6,
   "metadata": {},
   "outputs": [],
   "source": [
    "# DBに接続する\n",
    "con = sqlite3.connect(\"weather.sqlite\")\n",
    "cur = con.cursor()\n",
    "\n",
    "# SQLを用意\n",
    "sql_select = \"SELECT * FROM weather;\"\n",
    "\n",
    "# SQLを実行\n",
    "cur.execute(sql_select)\n",
    "\n",
    "for row in cur:\n",
    "    print(row)\n",
    "\n",
    "# DBへの接続を閉じる\n",
    "con.close()"
   ]
  }
 ],
 "metadata": {
  "kernelspec": {
   "display_name": "Python 3",
   "language": "python",
   "name": "python3"
  },
  "language_info": {
   "codemirror_mode": {
    "name": "ipython",
    "version": 3
   },
   "file_extension": ".py",
   "mimetype": "text/x-python",
   "name": "python",
   "nbconvert_exporter": "python",
   "pygments_lexer": "ipython3",
   "version": "3.9.6"
  }
 },
 "nbformat": 4,
 "nbformat_minor": 2
}
