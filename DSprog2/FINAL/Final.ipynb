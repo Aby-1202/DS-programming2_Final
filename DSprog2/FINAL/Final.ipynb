{
 "cells": [
  {
   "cell_type": "code",
   "execution_count": 1,
   "metadata": {},
   "outputs": [
    {
     "name": "stderr",
     "output_type": "stream",
     "text": [
      "/Users/abeyuuya/Library/Python/3.9/lib/python/site-packages/urllib3/__init__.py:34: NotOpenSSLWarning: urllib3 v2.0 only supports OpenSSL 1.1.1+, currently the 'ssl' module is compiled with 'LibreSSL 2.8.3'. See: https://github.com/urllib3/urllib3/issues/3020\n",
      "  warnings.warn(\n"
     ]
    }
   ],
   "source": [
    "import requests\n",
    "from bs4 import BeautifulSoup \n",
    "import re\n",
    "import time\n",
    "\n",
    "place_name = [\"小田原\"]"
   ]
  },
  {
   "cell_type": "code",
   "execution_count": 12,
   "metadata": {},
   "outputs": [],
   "source": [
    "# DBファイルを保存するためのファイルパス\n",
    "\n",
    "import sqlite3\n",
    "\n",
    "# DBに接続する（指定したDBファイル存在しない場合は，新規に作成される）\n",
    "con = sqlite3.connect(\"weather.sqlite\")\n",
    "cur = con.cursor()\n",
    "\n",
    "# テーブルが存在しない場合は作成\n",
    "cur.execute('''CREATE TABLE IF NOT EXISTS weather(\n",
    "                date TEXT,\n",
    "                precipitation FLOAT,\n",
    "                temp_avg FLOAT, \n",
    "                temp_high FLOAT, \n",
    "                temp_low FLOAT, \n",
    "                humidity_avg FLOAT, \n",
    "                humidity_min FLOAT, \n",
    "                sunshine FLOAT)\n",
    "                ''')\n",
    "\n",
    "# DBへの接続を閉じる\n",
    "con.commit()\n",
    "con.close()"
   ]
  },
  {
   "cell_type": "code",
   "execution_count": 3,
   "metadata": {},
   "outputs": [],
   "source": [
    "url = \"https://www.data.jma.go.jp/obd/stats/etrn/view/daily_a1.php?prec_no=46&block_no=1008&year=2023&month=12&day=&view=p1\"\n",
    "\n",
    "# 取ったデータをfloat型に変える(データが取れなかった場合、気象庁は\"/\"を埋め込んでいるため0に変える)\n",
    "def str2float(str):\n",
    "  try:\n",
    "    return float(str)\n",
    "  except:\n",
    "    return 0.0"
   ]
  },
  {
   "cell_type": "code",
   "execution_count": 4,
   "metadata": {},
   "outputs": [],
   "source": [
    "r = requests.get(url)\n",
    "r.encoding = r.apparent_encoding"
   ]
  },
  {
   "cell_type": "code",
   "execution_count": 13,
   "metadata": {},
   "outputs": [
    {
     "name": "stdout",
     "output_type": "stream",
     "text": [
      "[['月日', '降水量', '気温_平均', '気温_最高', '気温_最低', '湿度_平均', '湿度_最小', '日照時間'], ['12/17', '0.0mm', '10.6°C', '19.3°C', '3.7°C', '45％', '29％', '8.8h'], ['12/18', '0.0mm', '5.8°C', '11.2°C', '1.0°C', '61％', '23％', '6.7h'], ['12/19', '0.0mm', '6.6°C', '10.9°C', '2.1°C', '67％', '38％', '3.6h'], ['12/20', '0.0mm', '8.8°C', '14.0°C', '4.2°C', '73％', '46％', '6.8h'], ['12/21', '0.0mm', '7.7°C', '10.5°C', '2.8°C', '34％', '25％', '8.9h'], ['12/22', '0.0mm', '4.1°C', '10.1°C', '-1.4°C', '42％', '23％', '9.1h'], ['12/23', '0.0mm', '3.4°C', '10.6°C', '-1.7°C', '55％', '23％', '8.9h'], ['12/24', '0.0mm', '4.0°C', '9.4°C', '-0.6°C', '75％', '39％', '4.3h'], ['12/25', '0.0mm', '5.8°C', '14.3°C', '-0.6°C', '67％', '29％', '8.6h'], ['12/26', '0.0mm', '5.4°C', '13.1°C', '-1.2°C', '75％', '41％', '9.0h'], ['12/27', '0.0mm', '7.0°C', '13.0°C', '0.7°C', '72％', '44％', '5.3h'], ['12/28', '0.0mm', '6.6°C', '11.9°C', '2.8°C', '74％', '41％', '8.2h'], ['12/29', '0.0mm', '6.6°C', '14.0°C', '1.2°C', '78％', '39％', '9.0h'], ['12/30', '0.0mm', '7.9°C', '14.2°C', '2.8°C', '79％', '45％', '8.7h'], ['12/31', '2.0mm', '8.8°C', '12.5°C', '5.8°C', '92％', '73％', '2.5h']]\n"
     ]
    }
   ],
   "source": [
    "data_list = [['月日', '降水量', '気温_平均', '気温_最高', '気温_最低', '湿度_平均', '湿度_最小', '日照時間']]\n",
    "\n",
    "month = 12\n",
    "soup = BeautifulSoup(r.text, 'html.parser')\n",
    "table = soup.find('table', {'id': 'tablefix1', 'class': 'data2_s'})\n",
    "rows = table.findAll('tr', class_='mtx')\n",
    "rows = rows[19:]\n",
    "\n",
    "con = sqlite3.connect(\"weather.sqlite\")\n",
    "cur = con.cursor()\n",
    "\n",
    "\n",
    "for row in rows:\n",
    "    data = row.findAll('td')\n",
    "    rowData = []\n",
    "    rowData.append(str(month) + \"/\" + str(data[0].string))\n",
    "    rowData.append(str(data[1].string) + \"mm\")\n",
    "    rowData.append(str(data[4].string) + \"°C\")\n",
    "    rowData.append(str(data[5].string) + \"°C\")\n",
    "    rowData.append(str(data[6].string) + \"°C\")\n",
    "    rowData.append(str(data[7].string) + \"％\")\n",
    "    rowData.append(str(data[8].string) + \"％\")\n",
    "    rowData.append(str(data[15].string) + \"h\")\n",
    "\n",
    "    cur.execute(\"INSERT INTO weather (date, precipitation, temp_avg, temp_high, temp_low, humidity_avg, humidity_min, sunshine) VALUES (?, ?, ?, ?, ?, ?, ?, ?)\", rowData)\n",
    "    data_list.append(rowData)\n",
    "\n",
    "if __name__ == \"__main__\":\n",
    "    result = data_list\n",
    "    print(result)\n",
    "\n",
    "con.commit()\n",
    "con.close()"
   ]
  },
  {
   "cell_type": "code",
   "execution_count": 16,
   "metadata": {},
   "outputs": [
    {
     "name": "stdout",
     "output_type": "stream",
     "text": [
      "[['月日', '降水量', '気温_平均', '気温_最高', '気温_最低', '湿度_平均', '湿度_最小', '日照時間'], ['12/17', '0.0mm', '10.6°C', '19.3°C', '3.7°C', '45％', '29％', '8.8h'], ['12/18', '0.0mm', '5.8°C', '11.2°C', '1.0°C', '61％', '23％', '6.7h'], ['12/19', '0.0mm', '6.6°C', '10.9°C', '2.1°C', '67％', '38％', '3.6h'], ['12/20', '0.0mm', '8.8°C', '14.0°C', '4.2°C', '73％', '46％', '6.8h'], ['12/21', '0.0mm', '7.7°C', '10.5°C', '2.8°C', '34％', '25％', '8.9h'], ['12/22', '0.0mm', '4.1°C', '10.1°C', '-1.4°C', '42％', '23％', '9.1h'], ['12/23', '0.0mm', '3.4°C', '10.6°C', '-1.7°C', '55％', '23％', '8.9h'], ['12/24', '0.0mm', '4.0°C', '9.4°C', '-0.6°C', '75％', '39％', '4.3h'], ['12/25', '0.0mm', '5.8°C', '14.3°C', '-0.6°C', '67％', '29％', '8.6h'], ['12/26', '0.0mm', '5.4°C', '13.1°C', '-1.2°C', '75％', '41％', '9.0h'], ['12/27', '0.0mm', '7.0°C', '13.0°C', '0.7°C', '72％', '44％', '5.3h'], ['12/28', '0.0mm', '6.6°C', '11.9°C', '2.8°C', '74％', '41％', '8.2h'], ['12/29', '0.0mm', '6.6°C', '14.0°C', '1.2°C', '78％', '39％', '9.0h'], ['12/30', '0.0mm', '7.9°C', '14.2°C', '2.8°C', '79％', '45％', '8.7h'], ['12/31', '2.0mm', '8.8°C', '12.5°C', '5.8°C', '92％', '73％', '2.5h']]\n"
     ]
    }
   ],
   "source": [
    "# DBに接続する\n",
    "con = sqlite3.connect(\"weather.sqlite\")\n",
    "cur = con.cursor()\n",
    "\n",
    "# SQLを用意\n",
    "sql_select = \"SELECT * FROM weather;\"\n",
    "\n",
    "# SQLを実行\n",
    "cur.execute(sql_select)\n",
    "\n",
    "for row in cur:\n",
    "    print(row)\n",
    "\n",
    "# DBへの接続を閉じる\n",
    "con.close()"
   ]
  }
 ],
 "metadata": {
  "kernelspec": {
   "display_name": "Python 3",
   "language": "python",
   "name": "python3"
  },
  "language_info": {
   "codemirror_mode": {
    "name": "ipython",
    "version": 3
   },
   "file_extension": ".py",
   "mimetype": "text/x-python",
   "name": "python",
   "nbconvert_exporter": "python",
   "pygments_lexer": "ipython3",
   "version": "3.9.6"
  }
 },
 "nbformat": 4,
 "nbformat_minor": 2
}
