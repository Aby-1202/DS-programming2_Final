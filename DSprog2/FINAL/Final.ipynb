{
 "cells": [
  {
   "cell_type": "code",
   "execution_count": 1,
   "metadata": {},
   "outputs": [
    {
     "name": "stderr",
     "output_type": "stream",
     "text": [
      "/Users/abeyuuya/Library/Python/3.9/lib/python/site-packages/urllib3/__init__.py:34: NotOpenSSLWarning: urllib3 v2.0 only supports OpenSSL 1.1.1+, currently the 'ssl' module is compiled with 'LibreSSL 2.8.3'. See: https://github.com/urllib3/urllib3/issues/3020\n",
      "  warnings.warn(\n"
     ]
    }
   ],
   "source": [
    "import requests\n",
    "from bs4 import BeautifulSoup \n",
    "import re\n",
    "import time\n",
    "\n",
    "pref_code = [46] #都道府県コード\n",
    "block_code = [1008] #地域コード\n",
    "place_name = [\"小田原\"]"
   ]
  },
  {
   "cell_type": "code",
   "execution_count": 4,
   "metadata": {},
   "outputs": [],
   "source": [
    "# DBファイルを保存するためのファイルパス\n",
    "\n",
    "import sqlite3\n",
    "\n",
    "# DBに接続する（指定したDBファイル存在しない場合は，新規に作成される）\n",
    "con = sqlite3.connect(\"weather.sqlite\")\n",
    "cur = con.cursor()\n",
    "\n",
    "# テーブルが存在しない場合は作成\n",
    "cur.execute('''CREATE TABLE IF NOT EXISTS weather\n",
    "                (date TEXT, precipitation FLOAT, temp_avg FLOAT, temp_high FLOAT, temp_low FLOAT, humidity_avg FLOAT, humidity_min FLOAT, sunshine FLOAT)''')\n",
    "\n",
    "# DBへの接続を閉じる\n",
    "con.commit()\n",
    "con.close()"
   ]
  },
  {
   "cell_type": "code",
   "execution_count": 10,
   "metadata": {},
   "outputs": [],
   "source": [
    "url = \"https://www.data.jma.go.jp/obd/stats/etrn/view/daily_a1.php?prec_no=46&block_no1008&year=2023&month=12&day=&view=p1\"\n",
    "\n",
    "# 取ったデータをfloat型に変える(データが取れなかった場合、気象庁は\"/\"を埋め込んでいるため0に変える)\n",
    "def str2float(str):\n",
    "  try:\n",
    "    return float(str)\n",
    "  except:\n",
    "    return 0.0"
   ]
  },
  {
   "cell_type": "code",
   "execution_count": 11,
   "metadata": {},
   "outputs": [
    {
     "name": "stdout",
     "output_type": "stream",
     "text": [
      "小田原\n",
      "2023\n"
     ]
    },
    {
     "ename": "TypeError",
     "evalue": "not all arguments converted during string formatting",
     "output_type": "error",
     "traceback": [
      "\u001b[0;31m---------------------------------------------------------------------------\u001b[0m",
      "\u001b[0;31mTypeError\u001b[0m                                 Traceback (most recent call last)",
      "Cell \u001b[0;32mIn[11], line 13\u001b[0m\n\u001b[1;32m     11\u001b[0m month \u001b[38;5;241m=\u001b[39m \u001b[38;5;241m12\u001b[39m\n\u001b[1;32m     12\u001b[0m \u001b[38;5;66;03m# 2つの都市コードと年と月を当てはめる\u001b[39;00m\n\u001b[0;32m---> 13\u001b[0m r \u001b[38;5;241m=\u001b[39m requests\u001b[38;5;241m.\u001b[39mget(\u001b[43murl\u001b[49m\u001b[43m \u001b[49m\u001b[38;5;241;43m%\u001b[39;49m\u001b[43m \u001b[49m\u001b[43m(\u001b[49m\u001b[43mpref_code\u001b[49m\u001b[43m,\u001b[49m\u001b[43m \u001b[49m\u001b[43mblock_code\u001b[49m\u001b[43m,\u001b[49m\u001b[43m \u001b[49m\u001b[43myear\u001b[49m\u001b[43m,\u001b[49m\u001b[43m \u001b[49m\u001b[43mmonth\u001b[49m\u001b[43m)\u001b[49m)\n\u001b[1;32m     14\u001b[0m r\u001b[38;5;241m.\u001b[39mencoding \u001b[38;5;241m=\u001b[39m r\u001b[38;5;241m.\u001b[39mapparent_encoding\n\u001b[1;32m     16\u001b[0m \u001b[38;5;66;03m# スクレイピング\u001b[39;00m\n",
      "\u001b[0;31mTypeError\u001b[0m: not all arguments converted during string formatting"
     ]
    }
   ],
   "source": [
    "if __name__ == \"__main__\":\n",
    "  for place in place_name:\n",
    "    #最終的にデータを集めるリスト\n",
    "    list = [['年月日', '降水量', '気温_平均', '気温_最高', '気温_最低', '湿度_平均', '湿度_最小', '日照時間']]\n",
    "    print(place)\n",
    "    index = place_name.index(place)\n",
    "\n",
    "    year = 2023\n",
    "    print(year)\n",
    "\n",
    "    month = 12\n",
    "    # 2つの都市コードと年と月を当てはめる\n",
    "    r = requests.get(url % (pref_code, block_code, year, month))\n",
    "    r.encoding = r.apparent_encoding\n",
    "\n",
    "    # スクレイピング\n",
    "    soup = BeautifulSoup(r.text, 'html.parser')\n",
    "    # findAllで条件に一致するものをすべて抜き出す。\n",
    "    # 今回の条件はtrタグでclassがmtxになっているもの。\n",
    "    rows = soup.findAll('tr', class_='mtx')\n",
    "    # 表の最初の4行目はカラム情報なのでスライスする\n",
    "    rows = rows[4:]\n",
    "\n",
    "    # データベースに接続\n",
    "    con = sqlite3.connect(\"weather.sqlite\")\n",
    "    cur = con.cursor()\n",
    "\n",
    "    # 対象期間の1行を取得し、リストに挿入\n",
    "    for row in rows:\n",
    "      # trのなかのtdをすべて抜き出す\n",
    "      data = row.findAll('td')\n",
    "\n",
    "      # データを取り出す\n",
    "      rowData = [] # 初期化\n",
    "      time.sleep(1)\n",
    "      rowData.append(str(year) + \"/\" + str(month) + \"/\" + str(data[0].string))\n",
    "      rowData.append(str2float(data[3].string))\n",
    "      rowData.append(str2float(data[6].string))\n",
    "      rowData.append(str2float(data[7].string))\n",
    "      rowData.append(str2float(data[8].string))\n",
    "      rowData.append(str2float(data[9].string))\n",
    "      rowData.append(str2float(data[10].string))\n",
    "      rowData.append(str2float(data[16].string))\n",
    "\n",
    "      # 次の行にデータを追加\n",
    "      list.append(rowData)\n",
    "\n",
    "      # データベースへの挿入\n",
    "      cur.execute(\"INSERT INTO weather (date, precipitation, temp_avg, temp_high, temp_low, humidity_avg, humidity_min, sunshine)VALUES (?, ?, ?, ?, ?, ?, ?, ?)\", rowData)\n",
    "\n",
    "    con.commit()\n",
    "    con.close()\n",
    "\n",
    "return rowData"
   ]
  },
  {
   "cell_type": "code",
   "execution_count": null,
   "metadata": {},
   "outputs": [],
   "source": [
    "# DBに接続する\n",
    "con = sqlite3.connect(\"weather.sqlite\")\n",
    "cur = con.cursor()\n",
    "\n",
    "# SQLを用意\n",
    "sql_select = \"SELECT * FROM weather;\"\n",
    "\n",
    "# SQLを実行\n",
    "cur.execute(sql_select)\n",
    "\n",
    "for row in cur:\n",
    "    print(row)\n",
    "\n",
    "# DBへの接続を閉じる\n",
    "con.close()"
   ]
  }
 ],
 "metadata": {
  "kernelspec": {
   "display_name": "Python 3",
   "language": "python",
   "name": "python3"
  },
  "language_info": {
   "codemirror_mode": {
    "name": "ipython",
    "version": 3
   },
   "file_extension": ".py",
   "mimetype": "text/x-python",
   "name": "python",
   "nbconvert_exporter": "python",
   "pygments_lexer": "ipython3",
   "version": "3.9.6"
  }
 },
 "nbformat": 4,
 "nbformat_minor": 2
}
