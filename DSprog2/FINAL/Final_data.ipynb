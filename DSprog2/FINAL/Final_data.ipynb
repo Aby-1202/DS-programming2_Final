{
 "cells": [
  {
   "cell_type": "code",
   "execution_count": 6,
   "metadata": {},
   "outputs": [],
   "source": [
    "import requests\n",
    "from bs4 import BeautifulSoup \n",
    "import re\n",
    "import time"
   ]
  },
  {
   "cell_type": "code",
   "execution_count": 7,
   "metadata": {},
   "outputs": [],
   "source": [
    "## まずは気象庁のWebサイトから、家から近い小田原市の気象情報を取得しDBに保存する\n",
    "\n",
    "# DBファイルを保存するためのファイルパス\n",
    "\n",
    "import sqlite3\n",
    "\n",
    "# DBに接続する（指定したDBファイル存在しない場合は，新規に作成される）\n",
    "con = sqlite3.connect(\"data.sqlite\")\n",
    "cur = con.cursor()\n",
    "\n",
    "# テーブルが存在しない場合は作成\n",
    "cur.execute('''CREATE TABLE IF NOT EXISTS weather(\n",
    "                date TEXT,\n",
    "                precipitation FLOAT,\n",
    "                temp_avg FLOAT, \n",
    "                temp_high FLOAT, \n",
    "                temp_low FLOAT, \n",
    "                humidity_avg FLOAT, \n",
    "                humidity_min FLOAT, \n",
    "                sunshine FLOAT)\n",
    "                ''')\n",
    "\n",
    "# DBへの接続を閉じる\n",
    "con.commit()\n",
    "con.close()"
   ]
  },
  {
   "cell_type": "code",
   "execution_count": 8,
   "metadata": {},
   "outputs": [],
   "source": [
    "url = \"https://www.data.jma.go.jp/obd/stats/etrn/view/daily_a1.php?prec_no=46&block_no=1008&year=2023&month=12&day=&view=p1\"\n",
    "\n",
    "# 取ったデータをfloat型に変える(データが取れなかった場合、気象庁は\"/\"を埋め込んでいるため0に変える)\n",
    "def str2float(str):\n",
    "  try:\n",
    "    return float(str)\n",
    "  except:\n",
    "    return 0.0"
   ]
  },
  {
   "cell_type": "code",
   "execution_count": 9,
   "metadata": {},
   "outputs": [],
   "source": [
    "r = requests.get(url)\n",
    "r.encoding = r.apparent_encoding"
   ]
  },
  {
   "cell_type": "code",
   "execution_count": 10,
   "metadata": {},
   "outputs": [
    {
     "name": "stdout",
     "output_type": "stream",
     "text": [
      "[['月日', '降水量', '気温_平均', '気温_最高', '気温_最低', '湿度_平均', '湿度_最小', '日照時間'], ['12/17', '0.0', '10.6', '19.3', '3.7', '45', '29', '8.8'], ['12/18', '0.0', '5.8', '11.2', '1.0', '61', '23', '6.7'], ['12/19', '0.0', '6.6', '10.9', '2.1', '67', '38', '3.6'], ['12/20', '0.0', '8.8', '14.0', '4.2', '73', '46', '6.8'], ['12/21', '0.0', '7.7', '10.5', '2.8', '34', '25', '8.9'], ['12/22', '0.0', '4.1', '10.1', '-1.4', '42', '23', '9.1'], ['12/23', '0.0', '3.4', '10.6', '-1.7', '55', '23', '8.9'], ['12/24', '0.0', '4.0', '9.4', '-0.6', '75', '39', '4.3'], ['12/25', '0.0', '5.8', '14.3', '-0.6', '67', '29', '8.6'], ['12/26', '0.0', '5.4', '13.1', '-1.2', '75', '41', '9.0'], ['12/27', '0.0', '7.0', '13.0', '0.7', '72', '44', '5.3'], ['12/28', '0.0', '6.6', '11.9', '2.8', '74', '41', '8.2'], ['12/29', '0.0', '6.6', '14.0', '1.2', '78', '39', '9.0'], ['12/30', '0.0', '7.9', '14.2', '2.8', '79', '45', '8.7'], ['12/31', '2.0', '8.8', '12.5', '5.8', '92', '73', '2.5']]\n"
     ]
    }
   ],
   "source": [
    "data_list = [['月日', '降水量', '気温_平均', '気温_最高', '気温_最低', '湿度_平均', '湿度_最小', '日照時間']]\n",
    "\n",
    "month = 12\n",
    "soup = BeautifulSoup(r.text, 'html.parser')\n",
    "table = soup.find('table', {'id': 'tablefix1', 'class': 'data2_s'})\n",
    "rows = table.findAll('tr', class_='mtx')\n",
    "rows = rows[19:]\n",
    "\n",
    "con = sqlite3.connect(\"data.sqlite\")\n",
    "cur = con.cursor()\n",
    "\n",
    "for row in rows:\n",
    "    time.sleep(1)\n",
    "    data = row.findAll('td')\n",
    "    rowData = []\n",
    "    rowData.append(str(month) + \"/\" + str(data[0].string))\n",
    "    rowData.append(str(data[1].string))\n",
    "    rowData.append(str(data[4].string))\n",
    "    rowData.append(str(data[5].string))\n",
    "    rowData.append(str(data[6].string))\n",
    "    rowData.append(str(data[7].string))\n",
    "    rowData.append(str(data[8].string))\n",
    "    rowData.append(str(data[15].string))\n",
    "\n",
    "    cur.execute(\"INSERT INTO weather (date, precipitation,temp_avg, temp_high, temp_low, humidity_avg, humidity_min, sunshine) VALUES (?, ?, ?, ?, ?, ?, ?, ?)\", rowData)\n",
    "    data_list.append(rowData)\n",
    "\n",
    "if __name__ == \"__main__\":\n",
    "    result = data_list\n",
    "    print(result)\n",
    "\n",
    "con.commit()\n",
    "con.close()"
   ]
  },
  {
   "cell_type": "code",
   "execution_count": 11,
   "metadata": {},
   "outputs": [
    {
     "name": "stdout",
     "output_type": "stream",
     "text": [
      "('12/17', 0.0, 10.6, 19.3, 3.7, 45.0, 29.0, 8.8)\n",
      "('12/18', 0.0, 5.8, 11.2, 1.0, 61.0, 23.0, 6.7)\n",
      "('12/19', 0.0, 6.6, 10.9, 2.1, 67.0, 38.0, 3.6)\n",
      "('12/20', 0.0, 8.8, 14.0, 4.2, 73.0, 46.0, 6.8)\n",
      "('12/21', 0.0, 7.7, 10.5, 2.8, 34.0, 25.0, 8.9)\n",
      "('12/22', 0.0, 4.1, 10.1, -1.4, 42.0, 23.0, 9.1)\n",
      "('12/23', 0.0, 3.4, 10.6, -1.7, 55.0, 23.0, 8.9)\n",
      "('12/24', 0.0, 4.0, 9.4, -0.6, 75.0, 39.0, 4.3)\n",
      "('12/25', 0.0, 5.8, 14.3, -0.6, 67.0, 29.0, 8.6)\n",
      "('12/26', 0.0, 5.4, 13.1, -1.2, 75.0, 41.0, 9.0)\n",
      "('12/27', 0.0, 7.0, 13.0, 0.7, 72.0, 44.0, 5.3)\n",
      "('12/28', 0.0, 6.6, 11.9, 2.8, 74.0, 41.0, 8.2)\n",
      "('12/29', 0.0, 6.6, 14.0, 1.2, 78.0, 39.0, 9.0)\n",
      "('12/30', 0.0, 7.9, 14.2, 2.8, 79.0, 45.0, 8.7)\n",
      "('12/31', 2.0, 8.8, 12.5, 5.8, 92.0, 73.0, 2.5)\n"
     ]
    }
   ],
   "source": [
    "# DBに接続する\n",
    "con = sqlite3.connect(\"data.sqlite\")\n",
    "cur = con.cursor()\n",
    "\n",
    "# SQLを用意\n",
    "sql_select = \"SELECT * FROM weather;\"\n",
    "\n",
    "# SQLを実行\n",
    "cur.execute(sql_select)\n",
    "\n",
    "for row in cur:\n",
    "    print(row)\n",
    "\n",
    "# DBへの接続を閉じる\n",
    "con.close()"
   ]
  },
  {
   "cell_type": "code",
   "execution_count": 12,
   "metadata": {},
   "outputs": [],
   "source": [
    "## ここからはローカルデータ(スクリーンタイム)の保存\n",
    "\n",
    "# DBに接続する（指定したDBファイル存在しない場合は，新規に作成される）\n",
    "con = sqlite3.connect(\"data.sqlite\")\n",
    "cur = con.cursor()\n",
    "\n",
    "# テーブルが存在しない場合は作成\n",
    "cur.execute('''CREATE TABLE IF NOT EXISTS screentime(\n",
    "                date TEXT,\n",
    "                game_time INTEGER,\n",
    "                SNS_time INTEGER,\n",
    "                entertainment_time INTEGER,\n",
    "                utility_time INTEGER,\n",
    "                others_time INTEGER,\n",
    "                total_time INTEGER)\n",
    "                ''')\n",
    "\n",
    "# DBへの接続を閉じる\n",
    "con.commit()\n",
    "con.close()"
   ]
  },
  {
   "cell_type": "code",
   "execution_count": 13,
   "metadata": {},
   "outputs": [],
   "source": [
    "def add_screentime(date, game_time, SNS_time, entertainment_time, utility_time, others_time, total_time):\n",
    "\n",
    "    con = sqlite3.connect(\"data.sqlite\")\n",
    "    cur = con.cursor()\n",
    "\n",
    "    cur.execute(\"INSERT INTO screentime (date, game_time, SNS_time, entertainment_time, utility_time, others_time, total_time) VALUES(?, ?, ?, ?, ?, ?, ?)\", (date, game_time, SNS_time, entertainment_time, utility_time, others_time, total_time))\n",
    "\n",
    "    con.commit()\n",
    "    con.close()\n",
    "\n",
    "add_screentime('12/17', 1188, 69, 60, 42, 8, 1367)\n",
    "add_screentime('12/18', 462, 143, 57, 49, 8, 719)\n",
    "add_screentime('12/19', 168, 183, 17, 9, 13, 390)\n",
    "add_screentime('12/20', 332, 290, 44, 50, 15, 731)\n",
    "add_screentime('12/21', 412, 374, 32, 81, 21, 920)\n",
    "add_screentime('12/22', 174, 166, 12, 72, 34, 458)\n",
    "add_screentime('12/23', 481, 147, 73, 191, 45, 937)\n",
    "add_screentime('12/24', 180, 321, 82, 142, 7, 732)\n",
    "add_screentime('12/25', 228, 328, 158, 68, 20, 802)\n",
    "add_screentime('12/26', 16, 197, 27, 26, 57, 323)\n",
    "add_screentime('12/27', 45, 28, 16, 8, 9, 106)\n",
    "add_screentime('12/28', 40, 100, 30, 4, 20, 194)\n",
    "add_screentime('12/29', 392, 126, 104, 17, 12, 651)\n",
    "add_screentime('12/30', 672, 153, 14, 8, 21, 868)\n",
    "add_screentime('12/31', 195, 244, 86, 163, 36, 724)"
   ]
  },
  {
   "cell_type": "code",
   "execution_count": 14,
   "metadata": {},
   "outputs": [
    {
     "name": "stdout",
     "output_type": "stream",
     "text": [
      "('12/17', 1188, 69, 60, 42, 8, 1367)\n",
      "('12/18', 462, 143, 57, 49, 8, 719)\n",
      "('12/19', 168, 183, 17, 9, 13, 390)\n",
      "('12/20', 332, 290, 44, 50, 15, 731)\n",
      "('12/21', 412, 374, 32, 81, 21, 920)\n",
      "('12/22', 174, 166, 12, 72, 34, 458)\n",
      "('12/23', 481, 147, 73, 191, 45, 937)\n",
      "('12/24', 180, 321, 82, 142, 7, 732)\n",
      "('12/25', 228, 328, 158, 68, 20, 802)\n",
      "('12/26', 16, 197, 27, 26, 57, 323)\n",
      "('12/27', 45, 28, 16, 8, 9, 106)\n",
      "('12/28', 40, 100, 30, 4, 20, 194)\n",
      "('12/29', 392, 126, 104, 17, 12, 651)\n",
      "('12/30', 672, 153, 14, 8, 21, 868)\n",
      "('12/31', 195, 244, 86, 163, 36, 724)\n"
     ]
    }
   ],
   "source": [
    "# DBに接続する\n",
    "con = sqlite3.connect(\"data.sqlite\")\n",
    "cur = con.cursor()\n",
    "\n",
    "# SQLを用意\n",
    "sql_select = \"SELECT * FROM screentime;\"\n",
    "\n",
    "# SQLを実行\n",
    "cur.execute(sql_select)\n",
    "\n",
    "for row in cur:\n",
    "    print(row)\n",
    "\n",
    "# DBへの接続を閉じる\n",
    "con.close()"
   ]
  }
 ],
 "metadata": {
  "kernelspec": {
   "display_name": "Python 3",
   "language": "python",
   "name": "python3"
  },
  "language_info": {
   "codemirror_mode": {
    "name": "ipython",
    "version": 3
   },
   "file_extension": ".py",
   "mimetype": "text/x-python",
   "name": "python",
   "nbconvert_exporter": "python",
   "pygments_lexer": "ipython3",
   "version": "3.9.6"
  }
 },
 "nbformat": 4,
 "nbformat_minor": 2
}
